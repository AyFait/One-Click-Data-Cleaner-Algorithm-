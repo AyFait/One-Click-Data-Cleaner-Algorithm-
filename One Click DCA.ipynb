{
 "cells": [
  {
   "cell_type": "markdown",
   "id": "b1cdae77",
   "metadata": {
    "papermill": {
     "duration": 0.008683,
     "end_time": "2024-08-13T14:04:01.352686",
     "exception": false,
     "start_time": "2024-08-13T14:04:01.344003",
     "status": "completed"
    },
    "tags": []
   },
   "source": [
    "# Importing Libraries "
   ]
  },
  {
   "cell_type": "code",
   "execution_count": 1,
   "id": "082afee0",
   "metadata": {
    "_cell_guid": "b1076dfc-b9ad-4769-8c92-a6c4dae69d19",
    "_uuid": "8f2839f25d086af736a60e9eeb907d3b93b6e0e5",
    "execution": {
     "iopub.execute_input": "2024-08-13T14:04:01.368174Z",
     "iopub.status.busy": "2024-08-13T14:04:01.367416Z",
     "iopub.status.idle": "2024-08-13T14:04:02.718645Z",
     "shell.execute_reply": "2024-08-13T14:04:02.716604Z"
    },
    "jupyter": {
     "source_hidden": true
    },
    "papermill": {
     "duration": 1.362618,
     "end_time": "2024-08-13T14:04:02.722107",
     "exception": false,
     "start_time": "2024-08-13T14:04:01.359489",
     "status": "completed"
    },
    "tags": []
   },
   "outputs": [
    {
     "name": "stdout",
     "output_type": "stream",
     "text": [
      "/kaggle/input/cmcdata/cmc-gain-dataset.xlsx\n",
      "/kaggle/input/cmcdata2/cmc-gain-dataset.csv\n",
      "/kaggle/input/cmc-gain-dataset/CMC_24h_Gainers_Starting_07_10_24 updated.csv\n"
     ]
    }
   ],
   "source": [
    "# This Python 3 environment comes with many helpful analytics libraries installed\n",
    "# It is defined by the kaggle/python Docker image: https://github.com/kaggle/docker-python\n",
    "# For example, here's several helpful packages to load\n",
    "\n",
    "import numpy as np # linear algebra\n",
    "import pandas as pd # data processing, CSV file I/O (e.g. pd.read_csv)\n",
    "import re\n",
    "# Input data files are available in the read-only \"../input/\" directory\n",
    "# For example, running this (by clicking run or pressing Shift+Enter) will list all files under the input directory\n",
    "\n",
    "import os\n",
    "for dirname, _, filenames in os.walk('/kaggle/input'):\n",
    "    for filename in filenames:\n",
    "        print(os.path.join(dirname, filename))\n",
    "\n",
    "# You can write up to 20GB to the current directory (/kaggle/working/) that gets preserved as output when you create a version using \"Save & Run All\" \n",
    "# You can also write temporary files to /kaggle/temp/, but they won't be saved outside of the current session"
   ]
  },
  {
   "cell_type": "markdown",
   "id": "6288d03e",
   "metadata": {
    "papermill": {
     "duration": 0.006656,
     "end_time": "2024-08-13T14:04:02.737374",
     "exception": false,
     "start_time": "2024-08-13T14:04:02.730718",
     "status": "completed"
    },
    "tags": []
   },
   "source": [
    "# Defining Filepaths"
   ]
  },
  {
   "cell_type": "code",
   "execution_count": 2,
   "id": "bbe81446",
   "metadata": {
    "execution": {
     "iopub.execute_input": "2024-08-13T14:04:02.752232Z",
     "iopub.status.busy": "2024-08-13T14:04:02.751663Z",
     "iopub.status.idle": "2024-08-13T14:04:02.780406Z",
     "shell.execute_reply": "2024-08-13T14:04:02.778970Z"
    },
    "jupyter": {
     "source_hidden": true
    },
    "papermill": {
     "duration": 0.039714,
     "end_time": "2024-08-13T14:04:02.783661",
     "exception": false,
     "start_time": "2024-08-13T14:04:02.743947",
     "status": "completed"
    },
    "tags": []
   },
   "outputs": [
    {
     "name": "stdout",
     "output_type": "stream",
     "text": [
      "cmc-gain-dataset.csv      int64\n",
      "CMC_Rank                 object\n",
      "Name                     object\n",
      "Symbol                   object\n",
      "Price($)                 object\n",
      "24h%                    float64\n",
      "24h_Vol($)               object\n",
      "dtype: object\n",
      "<class 'pandas.core.frame.DataFrame'>\n"
     ]
    }
   ],
   "source": [
    "#Assumes that your csv file as a single row o'f defined header (starting point, first row)\n",
    "\n",
    "cleanedFilepath = '/kaggle/working/cmc-gain-dataset-Clean.csv'\n",
    "filepath = '/kaggle/input/cmcdata2/cmc-gain-dataset.csv'\n",
    "csvFile = pd.read_csv(filepath)\n",
    "print(csvFile.dtypes)#prints datatypes for each col\n",
    "print(type(csvFile))#prints <class 'pandas.core.frame.DataFrame'>\n"
   ]
  },
  {
   "cell_type": "markdown",
   "id": "18c808f3",
   "metadata": {
    "papermill": {
     "duration": 0.006434,
     "end_time": "2024-08-13T14:04:02.797166",
     "exception": false,
     "start_time": "2024-08-13T14:04:02.790732",
     "status": "completed"
    },
    "tags": []
   },
   "source": [
    "# FillingNull Fxn"
   ]
  },
  {
   "cell_type": "code",
   "execution_count": 3,
   "id": "e0d8d85f",
   "metadata": {
    "execution": {
     "iopub.execute_input": "2024-08-13T14:04:02.811947Z",
     "iopub.status.busy": "2024-08-13T14:04:02.811485Z",
     "iopub.status.idle": "2024-08-13T14:04:02.820182Z",
     "shell.execute_reply": "2024-08-13T14:04:02.818977Z"
    },
    "jupyter": {
     "source_hidden": true
    },
    "papermill": {
     "duration": 0.019378,
     "end_time": "2024-08-13T14:04:02.822958",
     "exception": false,
     "start_time": "2024-08-13T14:04:02.803580",
     "status": "completed"
    },
    "tags": []
   },
   "outputs": [],
   "source": [
    "#To fill empty cells\n",
    "def fillNullCells(workingCol):\n",
    "    workingCol = pd.to_numeric(workingCol, errors='coerce')\n",
    "    if pd.isna(workingCol.iloc[0]):#Probably first cell in col is empty\n",
    "        colMedian = workingCol.median()\n",
    "        workingCol.iloc[0] = colMedian#interpolate doesnt fill the first cell id its empty so need to fill manually\n",
    "    workingCol.fillna(workingCol.interpolate(), inplace=True)#Using interpolate as it is best fit for time series data\n",
    "    #print(workingCol)\n",
    "    return workingCol\n"
   ]
  },
  {
   "cell_type": "markdown",
   "id": "cff58221",
   "metadata": {
    "papermill": {
     "duration": 0.006733,
     "end_time": "2024-08-13T14:04:02.836221",
     "exception": false,
     "start_time": "2024-08-13T14:04:02.829488",
     "status": "completed"
    },
    "tags": []
   },
   "source": [
    "# Mapping Fxn"
   ]
  },
  {
   "cell_type": "code",
   "execution_count": 4,
   "id": "43c12772",
   "metadata": {
    "execution": {
     "iopub.execute_input": "2024-08-13T14:04:02.853925Z",
     "iopub.status.busy": "2024-08-13T14:04:02.853466Z",
     "iopub.status.idle": "2024-08-13T14:04:02.863747Z",
     "shell.execute_reply": "2024-08-13T14:04:02.862227Z"
    },
    "jupyter": {
     "source_hidden": true
    },
    "papermill": {
     "duration": 0.02384,
     "end_time": "2024-08-13T14:04:02.866669",
     "exception": false,
     "start_time": "2024-08-13T14:04:02.842829",
     "status": "completed"
    },
    "tags": []
   },
   "outputs": [],
   "source": [
    "#To map each nonnumerical elemt to a num\n",
    "def mapElmtToNum(workingCol):\n",
    "    nonNum = []\n",
    "    for idx, elmt in enumerate(workingCol):#itrs over each elmt in a single col \n",
    "        if pd.isna(elmt): #skips an empty cell\n",
    "            continue\n",
    "        try: #Try to get if its a num\n",
    "            floatelmt = float(elmt)\n",
    "        except: #Then value is str or unknown, i.e mix of chars\n",
    "            nonNum.append(elmt)\n",
    "    nonNum = pd.unique(pd.Series(nonNum))\n",
    "    startNum = pd.to_numeric(workingCol, errors='coerce').max()+1#Trying to get max num in the col, turning all num to float and nonnum to nan\n",
    "    mapped = {val: idx for idx, val in enumerate(nonNum, start=int(startNum))}\n",
    "    workingCol = workingCol.map(lambda elmt: mapped.get(elmt, elmt))\n",
    "    workingCol = pd.to_numeric(workingCol, errors='coerce')\n",
    "    workingCol = fillNullCells(workingCol)\n",
    "    return workingCol\n"
   ]
  },
  {
   "cell_type": "markdown",
   "id": "ac8944f1",
   "metadata": {
    "papermill": {
     "duration": 0.008315,
     "end_time": "2024-08-13T14:04:02.882511",
     "exception": false,
     "start_time": "2024-08-13T14:04:02.874196",
     "status": "completed"
    },
    "tags": []
   },
   "source": [
    "# CleaningMixed Fxn"
   ]
  },
  {
   "cell_type": "code",
   "execution_count": 5,
   "id": "bd469329",
   "metadata": {
    "execution": {
     "iopub.execute_input": "2024-08-13T14:04:02.898263Z",
     "iopub.status.busy": "2024-08-13T14:04:02.897852Z",
     "iopub.status.idle": "2024-08-13T14:04:02.907336Z",
     "shell.execute_reply": "2024-08-13T14:04:02.905683Z"
    },
    "jupyter": {
     "source_hidden": true
    },
    "papermill": {
     "duration": 0.020558,
     "end_time": "2024-08-13T14:04:02.910152",
     "exception": false,
     "start_time": "2024-08-13T14:04:02.889594",
     "status": "completed"
    },
    "tags": []
   },
   "outputs": [],
   "source": [
    "#To clean a num col mixed with other chars\n",
    "def cleanObjNumericalCol(workingCol):\n",
    "    numUniks = workingCol.nunique()\n",
    "    numValues = sum(workingCol.isna() == False)\n",
    "    if numUniks >= 0.6 * numValues:#To check if the col is not categorical i.e. not repeated values\n",
    "        for idx, elmt in enumerate(workingCol):#itrs over each elmt in a single col \n",
    "            if pd.isna(elmt): #skips an empty cell\n",
    "                continue\n",
    "            elmt = re.sub(r'[^a-zA-Z0-9.]+', '', elmt)\n",
    "        #    try:\n",
    "        #        floatelmt = float(elmt)\n",
    "        #    except:\n",
    "        #        csvFile.at[idx, col] = np.nan\n",
    "        workingCol = pd.to_numeric(workingCol, errors='coerce')\n",
    "        workingCol = fillNullCells(workingCol)\n",
    "        return workingCol\n",
    "    else:\n",
    "        return None\n"
   ]
  },
  {
   "cell_type": "markdown",
   "id": "f389a466",
   "metadata": {
    "papermill": {
     "duration": 0.006458,
     "end_time": "2024-08-13T14:04:02.923231",
     "exception": false,
     "start_time": "2024-08-13T14:04:02.916773",
     "status": "completed"
    },
    "tags": []
   },
   "source": [
    "# TurnAlphabetsToLowercase Fxn"
   ]
  },
  {
   "cell_type": "code",
   "execution_count": 6,
   "id": "cb045ec8",
   "metadata": {
    "execution": {
     "iopub.execute_input": "2024-08-13T14:04:02.938447Z",
     "iopub.status.busy": "2024-08-13T14:04:02.938024Z",
     "iopub.status.idle": "2024-08-13T14:04:02.947030Z",
     "shell.execute_reply": "2024-08-13T14:04:02.945722Z"
    },
    "jupyter": {
     "source_hidden": true
    },
    "papermill": {
     "duration": 0.02079,
     "end_time": "2024-08-13T14:04:02.950586",
     "exception": false,
     "start_time": "2024-08-13T14:04:02.929796",
     "status": "completed"
    },
    "tags": []
   },
   "outputs": [],
   "source": [
    "#To turn alphabets to lowercase\n",
    "def turnAlphaLower(workingCol):\n",
    "    for idx, elmt in enumerate(workingCol):#itrs over each elmt in a single col \n",
    "        if pd.isna(elmt): #skips an empty cell\n",
    "            continue\n",
    "        try: #To avoid float * isalpha * str * strip errors when there are empty cells in the col\n",
    "            #elmt = re.sub('[^a-zA-Z0-9]+', '', str(elmt))#remove all whitespaces and special characters that negates alphabets or numbers from each elmt, no need for 'str'\n",
    "            elmt = re.sub(r'[^a-zA-Z0-9]+', '', elmt)\n",
    "            try: #To catch errors that will come from values other than numbers\n",
    "                floatelmt = float(elmt)\n",
    "            except: #Then value is str or unknown, i.e mix of chars\n",
    "                if not elmt.isalpha() and  not elmt.isalnum():#If value tossed here is not an alphabet and not alphanumeric\n",
    "                    csvFile.at[idx, col] = np.nan\n",
    "                else:\n",
    "                    csvFile.at[idx, col] = elmt.lower() #return the elmt in lowercase without spaces \n",
    "        except:\n",
    "            continue #skip the empty cell\n",
    "    return workingCol\n"
   ]
  },
  {
   "cell_type": "markdown",
   "id": "c99fe280",
   "metadata": {
    "papermill": {
     "duration": 0.006678,
     "end_time": "2024-08-13T14:04:02.964109",
     "exception": false,
     "start_time": "2024-08-13T14:04:02.957431",
     "status": "completed"
    },
    "tags": []
   },
   "source": [
    "# IsCategorical Fxn"
   ]
  },
  {
   "cell_type": "code",
   "execution_count": 7,
   "id": "57bdb676",
   "metadata": {
    "execution": {
     "iopub.execute_input": "2024-08-13T14:04:02.980015Z",
     "iopub.status.busy": "2024-08-13T14:04:02.979099Z",
     "iopub.status.idle": "2024-08-13T14:04:02.987378Z",
     "shell.execute_reply": "2024-08-13T14:04:02.985902Z"
    },
    "jupyter": {
     "source_hidden": true
    },
    "papermill": {
     "duration": 0.019304,
     "end_time": "2024-08-13T14:04:02.990242",
     "exception": false,
     "start_time": "2024-08-13T14:04:02.970938",
     "status": "completed"
    },
    "tags": []
   },
   "outputs": [],
   "source": [
    "#To determine for categorical col\n",
    "def isCategorical(workingCol):\n",
    "    numValues = sum(workingCol.isna() == False)#Total num of vals in the col\n",
    "    numUniks = workingCol.nunique()#Total num of unique vals\n",
    "    numTwiceUniques = sum(workingCol.value_counts() >= 2)#Total num of vals that reapeat atb least twice\n",
    "    #print(workingCol.value_counts()) # To get a view of the freq of each val\n",
    "\n",
    "    #Using max 60% should be unique threshold\n",
    "    #isCat = (numUniks / numValues) #The ratio of unique vals to total vals\n",
    "    #print(isCat)\n",
    "    #if isCat <= 0.6:\n",
    "        #Turn to category\n",
    "    #else:\n",
    "        #csvFile.drop(workingCol)#Means its not categorical so delete col\n",
    "    #Using 60% of unique should repeat at least twice threshold\n",
    "    isCat2 = (0.6 * numUniks)#preferred ratio\n",
    "    #print(isCat2)\n",
    "    if isCat2 <= numTwiceUniques:\n",
    "        #Turn to categorical\n",
    "        workingCol = mapElmtToNum(workingCol)\n",
    "        return workingCol\n",
    "    \n",
    "    else:\n",
    "        return None #This col is not cleaned\n",
    "\n"
   ]
  },
  {
   "cell_type": "markdown",
   "id": "dc52cb37",
   "metadata": {
    "papermill": {
     "duration": 0.006519,
     "end_time": "2024-08-13T14:04:03.003911",
     "exception": false,
     "start_time": "2024-08-13T14:04:02.997392",
     "status": "completed"
    },
    "tags": []
   },
   "source": [
    "# Count Values Fxn"
   ]
  },
  {
   "cell_type": "code",
   "execution_count": 8,
   "id": "cb2d1ce2",
   "metadata": {
    "execution": {
     "iopub.execute_input": "2024-08-13T14:04:03.019388Z",
     "iopub.status.busy": "2024-08-13T14:04:03.018995Z",
     "iopub.status.idle": "2024-08-13T14:04:03.028954Z",
     "shell.execute_reply": "2024-08-13T14:04:03.027607Z"
    },
    "jupyter": {
     "source_hidden": true
    },
    "papermill": {
     "duration": 0.022069,
     "end_time": "2024-08-13T14:04:03.032633",
     "exception": false,
     "start_time": "2024-08-13T14:04:03.010564",
     "status": "completed"
    },
    "tags": []
   },
   "outputs": [],
   "source": [
    "#To count each elmt in each col\n",
    "def countObjsCol(workingCol):\n",
    "    strCount = 0\n",
    "    alphanumericCount = 0\n",
    "    numCount = 0\n",
    "    unknownCount = 0\n",
    "    #for elmt in csvFile[col]:#itrs over each elmt in a single col\n",
    "    \n",
    "    for idx, elmt in enumerate(workingCol):#itrs over each elmt in a single col \n",
    "        if pd.isna(elmt): #skips an empty cell\n",
    "            continue\n",
    "        try: #To avoid float * isalpha * str * strip errors when there are empty cells in the col\n",
    "            elmt = re.sub(r'[,\\s]+', '', elmt)#remove all whitespaces and commas ONLY from each elmt (need to know unknowns)\n",
    "            if elmt.isalpha():#Checks if each elmt is an alphabet\n",
    "                strCount += 1\n",
    "                #print(elmt)#prints the alphabetical elmt\n",
    "            \n",
    "            else:\n",
    "                try: #To catch errors that will come from values other than numbers\n",
    "                    floatnum = float(elmt)\n",
    "                    numCount += 1\n",
    "                except:\n",
    "                    if elmt.isalnum():#For alphanum chars\n",
    "                        alphanumericCount += 1 \n",
    "                    else:\n",
    "                        unknownCount += 1 #Then value is unknown, i.e mix of chars \n",
    "                    continue #skip the value\n",
    "                \n",
    "        except:\n",
    "            continue #skip the empty cel\n",
    "    return strCount, alphanumericCount, numCount, unknownCount\n"
   ]
  },
  {
   "cell_type": "markdown",
   "id": "994bb467",
   "metadata": {
    "papermill": {
     "duration": 0.006625,
     "end_time": "2024-08-13T14:04:03.047196",
     "exception": false,
     "start_time": "2024-08-13T14:04:03.040571",
     "status": "completed"
    },
    "tags": []
   },
   "source": [
    "# Main Program"
   ]
  },
  {
   "cell_type": "code",
   "execution_count": 9,
   "id": "2105bd18",
   "metadata": {
    "execution": {
     "iopub.execute_input": "2024-08-13T14:04:03.062797Z",
     "iopub.status.busy": "2024-08-13T14:04:03.062364Z",
     "iopub.status.idle": "2024-08-13T14:04:03.138305Z",
     "shell.execute_reply": "2024-08-13T14:04:03.136961Z"
    },
    "papermill": {
     "duration": 0.087117,
     "end_time": "2024-08-13T14:04:03.141093",
     "exception": false,
     "start_time": "2024-08-13T14:04:03.053976",
     "status": "completed"
    },
    "tags": []
   },
   "outputs": [
    {
     "name": "stdout",
     "output_type": "stream",
     "text": [
      "cmc-gain-dataset.csv      int64\n",
      "Price($)                 object\n",
      "24h%                    float64\n",
      "24h_Vol($)               object\n",
      "dtype: object\n",
      "Clean Data Exported Successfully\n"
     ]
    }
   ],
   "source": [
    "\n",
    "#Main Operation\n",
    "for col in csvFile.columns:#itrs over all cols at once, but a single col with index def\n",
    "    #pass\n",
    "    #print(csvFile[col]) #Prints the current col\n",
    "    workingCol = csvFile[col]\n",
    "\n",
    "    if csvFile[col].dtype == int: #Its perfect so skip\n",
    "        continue\n",
    "\n",
    "    elif csvFile[col].dtype == float: #Might need fixing\n",
    "        csvFile[col] = fillNullCells(csvFile[col])\n",
    "        #print(csvFile[col])\n",
    "        \n",
    "\n",
    "    elif workingCol.dtype == object: #Checks for each cols first\n",
    "        strCount, alphanumericCount, numCount, unknownCount = countObjsCol(workingCol)\n",
    "        values = strCount + alphanumericCount + numCount\n",
    "        \n",
    "        #print(col)\n",
    "        #print('String: ', strCount)\n",
    "        #print('Alphanumeric: ', alphanumericCount)\n",
    "        #print('Nums: ', numCount)\n",
    "        #print('Unknown: ', unknownCount)\n",
    "        \n",
    "        if numCount >= (0.6 * values):#Incase a numerical col is mixed with few alphabets\n",
    "            if cleanObjNumericalCol(csvFile[col]) is None:\n",
    "                csvFile.drop(col, axis=1, inplace=True)\n",
    "            else:\n",
    "                csvFile[col] = turnAlphaLower(csvFile[col])\n",
    "                csvFile[col] = cleanObjNumericalCol(csvFile[col])#Num col with some empty cells\n",
    "                csvFile[col] = isCategorical(csvFile[col])\n",
    "                #print(csvFile[col])\n",
    "\n",
    "        #This works well for cols with more alpha chars than the others\n",
    "        elif (strCount + alphanumericCount + numCount) >= (0.8 * sum(workingCol.isna() == False)): #This ratio means cols is likely mixed up with invalid data\n",
    "            #To determine for Categorical col and then map\n",
    "            if isCategorical(csvFile[col]) is None:\n",
    "                csvFile.drop(col, axis=1, inplace=True)#Means its not categorical so delete col\n",
    "            else:\n",
    "                csvFile[col] = turnAlphaLower(csvFile[col])      \n",
    "                csvFile[col] = isCategorical(csvFile[col])\n",
    "                #print(csvFile[col])\n",
    "\n",
    "\n",
    "        else:\n",
    "            #print(workingCol)\n",
    "            csvFile.drop(col, axis=1, inplace=True)#Means its not categorical so delete col\n",
    "            \n",
    "    else:\n",
    "        csvFile.drop(col, axis=1, inplace=True)#Del any other col\n",
    "\n",
    "print(csvFile.dtypes)\n",
    "\n",
    "csvFile.to_csv(cleanedFilepath, index=False)\n",
    "print('Clean Data Exported Successfully')\n"
   ]
  }
 ],
 "metadata": {
  "kaggle": {
   "accelerator": "none",
   "dataSources": [
    {
     "datasetId": 5374348,
     "sourceId": 9161430,
     "sourceType": "datasetVersion"
    },
    {
     "datasetId": 5538315,
     "sourceId": 9165945,
     "sourceType": "datasetVersion"
    },
    {
     "datasetId": 5538352,
     "sourceId": 9166003,
     "sourceType": "datasetVersion"
    }
   ],
   "dockerImageVersionId": 30746,
   "isGpuEnabled": false,
   "isInternetEnabled": true,
   "language": "python",
   "sourceType": "notebook"
  },
  "kernelspec": {
   "display_name": "Python 3",
   "language": "python",
   "name": "python3"
  },
  "language_info": {
   "codemirror_mode": {
    "name": "ipython",
    "version": 3
   },
   "file_extension": ".py",
   "mimetype": "text/x-python",
   "name": "python",
   "nbconvert_exporter": "python",
   "pygments_lexer": "ipython3",
   "version": "3.10.13"
  },
  "papermill": {
   "default_parameters": {},
   "duration": 6.398012,
   "end_time": "2024-08-13T14:04:03.670305",
   "environment_variables": {},
   "exception": null,
   "input_path": "__notebook__.ipynb",
   "output_path": "__notebook__.ipynb",
   "parameters": {},
   "start_time": "2024-08-13T14:03:57.272293",
   "version": "2.5.0"
  }
 },
 "nbformat": 4,
 "nbformat_minor": 5
}
